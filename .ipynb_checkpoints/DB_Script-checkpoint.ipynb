{
 "cells": [
  {
   "cell_type": "markdown",
   "id": "98719cda-3892-413b-9f5e-f4429e7297ca",
   "metadata": {},
   "source": [
    "<h1 style = \"text-align: center\">REAL-TIME APPLE</h1>"
   ]
  },
  {
   "cell_type": "markdown",
   "id": "2b93f620-82ce-4644-b98f-46e0f2414e30",
   "metadata": {},
   "source": [
    "## Importing all required libraries"
   ]
  },
  {
   "cell_type": "code",
   "execution_count": 11,
   "id": "a0fdd817-a782-424b-8c82-151deac5f264",
   "metadata": {},
   "outputs": [],
   "source": [
    "import yfinance as yf\n",
    "import numpy as np\n",
    "import pandas as pd\n",
    "import matplotlib.pyplot as plt\n",
    "from datetime import date\n",
    "from sklearn.preprocessing import MinMaxScaler\n",
    "from sklearn.model_selection import train_test_split\n",
    "from tensorflow.keras.models import Sequential\n",
    "from tensorflow.keras.layers import LSTM, Dense, Dropout"
   ]
  },
  {
   "cell_type": "markdown",
   "id": "eceb9066-5179-48a8-8f4b-4a90850a1774",
   "metadata": {},
   "source": [
    "## Fetching and printing stock dataset"
   ]
  },
  {
   "cell_type": "code",
   "execution_count": 21,
   "id": "a0507349-068f-4fc8-9279-df698170ea3b",
   "metadata": {},
   "outputs": [
    {
     "name": "stderr",
     "output_type": "stream",
     "text": [
      "C:\\Users\\Marwa\\anaconda3\\envs\\env\\lib\\site-packages\\yfinance\\utils.py:775: FutureWarning: The 'unit' keyword in TimedeltaIndex construction is deprecated and will be removed in a future version. Use pd.to_timedelta instead.\n",
      "  df.index += _pd.TimedeltaIndex(dst_error_hours, 'h')\n",
      "[*********************100%%**********************]  1 of 1 completed\n"
     ]
    },
    {
     "data": {
      "text/html": [
       "<div>\n",
       "<style scoped>\n",
       "    .dataframe tbody tr th:only-of-type {\n",
       "        vertical-align: middle;\n",
       "    }\n",
       "\n",
       "    .dataframe tbody tr th {\n",
       "        vertical-align: top;\n",
       "    }\n",
       "\n",
       "    .dataframe thead th {\n",
       "        text-align: right;\n",
       "    }\n",
       "</style>\n",
       "<table border=\"1\" class=\"dataframe\">\n",
       "  <thead>\n",
       "    <tr style=\"text-align: right;\">\n",
       "      <th></th>\n",
       "      <th>Date</th>\n",
       "      <th>Open</th>\n",
       "      <th>High</th>\n",
       "      <th>Low</th>\n",
       "      <th>Close</th>\n",
       "      <th>Adj Close</th>\n",
       "      <th>Volume</th>\n",
       "    </tr>\n",
       "  </thead>\n",
       "  <tbody>\n",
       "    <tr>\n",
       "      <th>0</th>\n",
       "      <td>2014-01-02</td>\n",
       "      <td>19.845715</td>\n",
       "      <td>19.893929</td>\n",
       "      <td>19.715000</td>\n",
       "      <td>19.754642</td>\n",
       "      <td>17.318727</td>\n",
       "      <td>234684800</td>\n",
       "    </tr>\n",
       "    <tr>\n",
       "      <th>1</th>\n",
       "      <td>2014-01-03</td>\n",
       "      <td>19.745001</td>\n",
       "      <td>19.775000</td>\n",
       "      <td>19.301071</td>\n",
       "      <td>19.320715</td>\n",
       "      <td>16.938309</td>\n",
       "      <td>392467600</td>\n",
       "    </tr>\n",
       "    <tr>\n",
       "      <th>2</th>\n",
       "      <td>2014-01-06</td>\n",
       "      <td>19.194643</td>\n",
       "      <td>19.528570</td>\n",
       "      <td>19.057142</td>\n",
       "      <td>19.426071</td>\n",
       "      <td>17.030676</td>\n",
       "      <td>412610800</td>\n",
       "    </tr>\n",
       "    <tr>\n",
       "      <th>3</th>\n",
       "      <td>2014-01-07</td>\n",
       "      <td>19.440001</td>\n",
       "      <td>19.498571</td>\n",
       "      <td>19.211430</td>\n",
       "      <td>19.287144</td>\n",
       "      <td>16.908873</td>\n",
       "      <td>317209200</td>\n",
       "    </tr>\n",
       "    <tr>\n",
       "      <th>4</th>\n",
       "      <td>2014-01-08</td>\n",
       "      <td>19.243214</td>\n",
       "      <td>19.484285</td>\n",
       "      <td>19.238930</td>\n",
       "      <td>19.409286</td>\n",
       "      <td>17.015955</td>\n",
       "      <td>258529600</td>\n",
       "    </tr>\n",
       "    <tr>\n",
       "      <th>...</th>\n",
       "      <td>...</td>\n",
       "      <td>...</td>\n",
       "      <td>...</td>\n",
       "      <td>...</td>\n",
       "      <td>...</td>\n",
       "      <td>...</td>\n",
       "      <td>...</td>\n",
       "    </tr>\n",
       "    <tr>\n",
       "      <th>2534</th>\n",
       "      <td>2024-01-29</td>\n",
       "      <td>192.009995</td>\n",
       "      <td>192.199997</td>\n",
       "      <td>189.580002</td>\n",
       "      <td>191.729996</td>\n",
       "      <td>191.729996</td>\n",
       "      <td>47145600</td>\n",
       "    </tr>\n",
       "    <tr>\n",
       "      <th>2535</th>\n",
       "      <td>2024-01-30</td>\n",
       "      <td>190.940002</td>\n",
       "      <td>191.800003</td>\n",
       "      <td>187.470001</td>\n",
       "      <td>188.039993</td>\n",
       "      <td>188.039993</td>\n",
       "      <td>55859400</td>\n",
       "    </tr>\n",
       "    <tr>\n",
       "      <th>2536</th>\n",
       "      <td>2024-01-31</td>\n",
       "      <td>187.039993</td>\n",
       "      <td>187.100006</td>\n",
       "      <td>184.350006</td>\n",
       "      <td>184.399994</td>\n",
       "      <td>184.399994</td>\n",
       "      <td>55467800</td>\n",
       "    </tr>\n",
       "    <tr>\n",
       "      <th>2537</th>\n",
       "      <td>2024-02-01</td>\n",
       "      <td>183.990005</td>\n",
       "      <td>186.949997</td>\n",
       "      <td>183.820007</td>\n",
       "      <td>186.860001</td>\n",
       "      <td>186.860001</td>\n",
       "      <td>64885400</td>\n",
       "    </tr>\n",
       "    <tr>\n",
       "      <th>2538</th>\n",
       "      <td>2024-02-02</td>\n",
       "      <td>179.860001</td>\n",
       "      <td>187.330002</td>\n",
       "      <td>179.250000</td>\n",
       "      <td>185.850006</td>\n",
       "      <td>185.850006</td>\n",
       "      <td>102518000</td>\n",
       "    </tr>\n",
       "  </tbody>\n",
       "</table>\n",
       "<p>2539 rows × 7 columns</p>\n",
       "</div>"
      ],
      "text/plain": [
       "           Date        Open        High         Low       Close   Adj Close  \\\n",
       "0    2014-01-02   19.845715   19.893929   19.715000   19.754642   17.318727   \n",
       "1    2014-01-03   19.745001   19.775000   19.301071   19.320715   16.938309   \n",
       "2    2014-01-06   19.194643   19.528570   19.057142   19.426071   17.030676   \n",
       "3    2014-01-07   19.440001   19.498571   19.211430   19.287144   16.908873   \n",
       "4    2014-01-08   19.243214   19.484285   19.238930   19.409286   17.015955   \n",
       "...         ...         ...         ...         ...         ...         ...   \n",
       "2534 2024-01-29  192.009995  192.199997  189.580002  191.729996  191.729996   \n",
       "2535 2024-01-30  190.940002  191.800003  187.470001  188.039993  188.039993   \n",
       "2536 2024-01-31  187.039993  187.100006  184.350006  184.399994  184.399994   \n",
       "2537 2024-02-01  183.990005  186.949997  183.820007  186.860001  186.860001   \n",
       "2538 2024-02-02  179.860001  187.330002  179.250000  185.850006  185.850006   \n",
       "\n",
       "         Volume  \n",
       "0     234684800  \n",
       "1     392467600  \n",
       "2     412610800  \n",
       "3     317209200  \n",
       "4     258529600  \n",
       "...         ...  \n",
       "2534   47145600  \n",
       "2535   55859400  \n",
       "2536   55467800  \n",
       "2537   64885400  \n",
       "2538  102518000  \n",
       "\n",
       "[2539 rows x 7 columns]"
      ]
     },
     "execution_count": 21,
     "metadata": {},
     "output_type": "execute_result"
    }
   ],
   "source": [
    "data = yf.download(\"AAPL\", \"2014-01-01\", date.today())\n",
    "data.reset_index(inplace=True)\n",
    "data"
   ]
  },
  {
   "cell_type": "markdown",
   "id": "01255597-4b5b-4025-b41e-92ce25f6bf70",
   "metadata": {},
   "source": [
    "## Dropping all columns except close"
   ]
  },
  {
   "cell_type": "code",
   "execution_count": 39,
   "id": "cc4926a8-b579-43c1-a3ea-8347fbac1496",
   "metadata": {},
   "outputs": [
    {
     "data": {
      "text/html": [
       "<div>\n",
       "<style scoped>\n",
       "    .dataframe tbody tr th:only-of-type {\n",
       "        vertical-align: middle;\n",
       "    }\n",
       "\n",
       "    .dataframe tbody tr th {\n",
       "        vertical-align: top;\n",
       "    }\n",
       "\n",
       "    .dataframe thead th {\n",
       "        text-align: right;\n",
       "    }\n",
       "</style>\n",
       "<table border=\"1\" class=\"dataframe\">\n",
       "  <thead>\n",
       "    <tr style=\"text-align: right;\">\n",
       "      <th></th>\n",
       "      <th>Close</th>\n",
       "    </tr>\n",
       "  </thead>\n",
       "  <tbody>\n",
       "    <tr>\n",
       "      <th>0</th>\n",
       "      <td>19.754642</td>\n",
       "    </tr>\n",
       "    <tr>\n",
       "      <th>1</th>\n",
       "      <td>19.320715</td>\n",
       "    </tr>\n",
       "    <tr>\n",
       "      <th>2</th>\n",
       "      <td>19.426071</td>\n",
       "    </tr>\n",
       "    <tr>\n",
       "      <th>3</th>\n",
       "      <td>19.287144</td>\n",
       "    </tr>\n",
       "    <tr>\n",
       "      <th>4</th>\n",
       "      <td>19.409286</td>\n",
       "    </tr>\n",
       "    <tr>\n",
       "      <th>...</th>\n",
       "      <td>...</td>\n",
       "    </tr>\n",
       "    <tr>\n",
       "      <th>2534</th>\n",
       "      <td>191.729996</td>\n",
       "    </tr>\n",
       "    <tr>\n",
       "      <th>2535</th>\n",
       "      <td>188.039993</td>\n",
       "    </tr>\n",
       "    <tr>\n",
       "      <th>2536</th>\n",
       "      <td>184.399994</td>\n",
       "    </tr>\n",
       "    <tr>\n",
       "      <th>2537</th>\n",
       "      <td>186.860001</td>\n",
       "    </tr>\n",
       "    <tr>\n",
       "      <th>2538</th>\n",
       "      <td>185.850006</td>\n",
       "    </tr>\n",
       "  </tbody>\n",
       "</table>\n",
       "<p>2539 rows × 1 columns</p>\n",
       "</div>"
      ],
      "text/plain": [
       "           Close\n",
       "0      19.754642\n",
       "1      19.320715\n",
       "2      19.426071\n",
       "3      19.287144\n",
       "4      19.409286\n",
       "...          ...\n",
       "2534  191.729996\n",
       "2535  188.039993\n",
       "2536  184.399994\n",
       "2537  186.860001\n",
       "2538  185.850006\n",
       "\n",
       "[2539 rows x 1 columns]"
      ]
     },
     "execution_count": 39,
     "metadata": {},
     "output_type": "execute_result"
    }
   ],
   "source": [
    "data = data.reset_index()[['Close']]\n",
    "data"
   ]
  },
  {
   "cell_type": "markdown",
   "id": "087dd2ab-7d41-4258-9837-02de7ed0de6c",
   "metadata": {},
   "source": [
    "## Calculating moving average of 100 days"
   ]
  },
  {
   "cell_type": "code",
   "execution_count": 40,
   "id": "173e3476-566c-49c3-b7cc-b98a02aa2465",
   "metadata": {},
   "outputs": [
    {
     "data": {
      "text/html": [
       "<div>\n",
       "<style scoped>\n",
       "    .dataframe tbody tr th:only-of-type {\n",
       "        vertical-align: middle;\n",
       "    }\n",
       "\n",
       "    .dataframe tbody tr th {\n",
       "        vertical-align: top;\n",
       "    }\n",
       "\n",
       "    .dataframe thead th {\n",
       "        text-align: right;\n",
       "    }\n",
       "</style>\n",
       "<table border=\"1\" class=\"dataframe\">\n",
       "  <thead>\n",
       "    <tr style=\"text-align: right;\">\n",
       "      <th></th>\n",
       "      <th>Close</th>\n",
       "    </tr>\n",
       "  </thead>\n",
       "  <tbody>\n",
       "    <tr>\n",
       "      <th>0</th>\n",
       "      <td>NaN</td>\n",
       "    </tr>\n",
       "    <tr>\n",
       "      <th>1</th>\n",
       "      <td>NaN</td>\n",
       "    </tr>\n",
       "    <tr>\n",
       "      <th>2</th>\n",
       "      <td>NaN</td>\n",
       "    </tr>\n",
       "    <tr>\n",
       "      <th>3</th>\n",
       "      <td>NaN</td>\n",
       "    </tr>\n",
       "    <tr>\n",
       "      <th>4</th>\n",
       "      <td>NaN</td>\n",
       "    </tr>\n",
       "    <tr>\n",
       "      <th>...</th>\n",
       "      <td>...</td>\n",
       "    </tr>\n",
       "    <tr>\n",
       "      <th>2534</th>\n",
       "      <td>183.6301</td>\n",
       "    </tr>\n",
       "    <tr>\n",
       "      <th>2535</th>\n",
       "      <td>183.6814</td>\n",
       "    </tr>\n",
       "    <tr>\n",
       "      <th>2536</th>\n",
       "      <td>183.7498</td>\n",
       "    </tr>\n",
       "    <tr>\n",
       "      <th>2537</th>\n",
       "      <td>183.8366</td>\n",
       "    </tr>\n",
       "    <tr>\n",
       "      <th>2538</th>\n",
       "      <td>183.9015</td>\n",
       "    </tr>\n",
       "  </tbody>\n",
       "</table>\n",
       "<p>2539 rows × 1 columns</p>\n",
       "</div>"
      ],
      "text/plain": [
       "         Close\n",
       "0          NaN\n",
       "1          NaN\n",
       "2          NaN\n",
       "3          NaN\n",
       "4          NaN\n",
       "...        ...\n",
       "2534  183.6301\n",
       "2535  183.6814\n",
       "2536  183.7498\n",
       "2537  183.8366\n",
       "2538  183.9015\n",
       "\n",
       "[2539 rows x 1 columns]"
      ]
     },
     "execution_count": 40,
     "metadata": {},
     "output_type": "execute_result"
    }
   ],
   "source": [
    "moving_avg_100 = data.rolling(100).mean()\n",
    "moving_avg_100"
   ]
  },
  {
   "cell_type": "markdown",
   "id": "7a67a6cb-773f-4983-ba2f-faa326077ca1",
   "metadata": {},
   "source": [
    "## Plotting closing price and moving average of 100 days"
   ]
  },
  {
   "cell_type": "code",
   "execution_count": 47,
   "id": "d37be5b6-ca83-46b7-bd6c-daf6ab96e57c",
   "metadata": {},
   "outputs": [
    {
     "data": {
      "image/png": "[encoded data removed]",
      "text/plain": [
       "<Figure size 800x500 with 1 Axes>"
      ]
     },
     "metadata": {},
     "output_type": "display_data"
    }
   ],
   "source": [
    "plt.figure(figsize=(8, 5))\n",
    "plt.plot(data.index, data[\"Close\"], color=\"blue\", label=\"Closing Price\")\n",
    "plt.plot(moving_avg_100, color='red', label=\"Moving Average 100\")\n",
    "plt.xlabel('Date')\n",
    "plt.ylabel('Close Price')\n",
    "plt.title('Close Price for Apple')\n",
    "plt.legend()\n",
    "plt.show()"
   ]
  },
  {
   "cell_type": "markdown",
   "id": "e033c1a0-dc14-4728-9658-3bfc02d69504",
   "metadata": {},
   "source": [
    "## Splitting the dataset into training (80%) and testing (20%) Sets"
   ]
  },
  {
   "cell_type": "code",
   "execution_count": 42,
   "id": "216b4f39-e0f6-4266-ac4b-2efe7e8a55bc",
   "metadata": {},
   "outputs": [
    {
     "name": "stdout",
     "output_type": "stream",
     "text": [
      "Dataset Dimension: (2539, 1)\n",
      "Train Set Dimension: (2031, 1)\n",
      "Test Set Dimension: (508, 1)\n"
     ]
    }
   ],
   "source": [
    "train_size = int(len(data) * 0.8)\n",
    "test_size = len(data) - train_size\n",
    "\n",
    "train_set = data[:train_size]\n",
    "test_set = data[train_size:]\n",
    "\n",
    "print(f'Dataset Dimension: {data.shape}')\n",
    "print(f'Train Set Dimension: {train_set.shape}')\n",
    "print(f'Test Set Dimension: {test_set.shape}')"
   ]
  },
  {
   "cell_type": "code",
   "execution_count": 43,
   "id": "15521907-ce14-4865-b921-45b86f89c425",
   "metadata": {},
   "outputs": [
    {
     "data": {
      "text/html": [
       "<div>\n",
       "<style scoped>\n",
       "    .dataframe tbody tr th:only-of-type {\n",
       "        vertical-align: middle;\n",
       "    }\n",
       "\n",
       "    .dataframe tbody tr th {\n",
       "        vertical-align: top;\n",
       "    }\n",
       "\n",
       "    .dataframe thead th {\n",
       "        text-align: right;\n",
       "    }\n",
       "</style>\n",
       "<table border=\"1\" class=\"dataframe\">\n",
       "  <thead>\n",
       "    <tr style=\"text-align: right;\">\n",
       "      <th></th>\n",
       "      <th>Close</th>\n",
       "    </tr>\n",
       "  </thead>\n",
       "  <tbody>\n",
       "    <tr>\n",
       "      <th>0</th>\n",
       "      <td>19.754642</td>\n",
       "    </tr>\n",
       "    <tr>\n",
       "      <th>1</th>\n",
       "      <td>19.320715</td>\n",
       "    </tr>\n",
       "    <tr>\n",
       "      <th>2</th>\n",
       "      <td>19.426071</td>\n",
       "    </tr>\n",
       "    <tr>\n",
       "      <th>3</th>\n",
       "      <td>19.287144</td>\n",
       "    </tr>\n",
       "    <tr>\n",
       "      <th>4</th>\n",
       "      <td>19.409286</td>\n",
       "    </tr>\n",
       "  </tbody>\n",
       "</table>\n",
       "</div>"
      ],
      "text/plain": [
       "       Close\n",
       "0  19.754642\n",
       "1  19.320715\n",
       "2  19.426071\n",
       "3  19.287144\n",
       "4  19.409286"
      ]
     },
     "execution_count": 43,
     "metadata": {},
     "output_type": "execute_result"
    }
   ],
   "source": [
    "train_set.head()"
   ]
  },
  {
   "cell_type": "code",
   "execution_count": 44,
   "id": "e0046cd4-8b83-4dd6-838b-e704eba53cfb",
   "metadata": {},
   "outputs": [
    {
     "data": {
      "text/html": [
       "<div>\n",
       "<style scoped>\n",
       "    .dataframe tbody tr th:only-of-type {\n",
       "        vertical-align: middle;\n",
       "    }\n",
       "\n",
       "    .dataframe tbody tr th {\n",
       "        vertical-align: top;\n",
       "    }\n",
       "\n",
       "    .dataframe thead th {\n",
       "        text-align: right;\n",
       "    }\n",
       "</style>\n",
       "<table border=\"1\" class=\"dataframe\">\n",
       "  <thead>\n",
       "    <tr style=\"text-align: right;\">\n",
       "      <th></th>\n",
       "      <th>Close</th>\n",
       "    </tr>\n",
       "  </thead>\n",
       "  <tbody>\n",
       "    <tr>\n",
       "      <th>2534</th>\n",
       "      <td>191.729996</td>\n",
       "    </tr>\n",
       "    <tr>\n",
       "      <th>2535</th>\n",
       "      <td>188.039993</td>\n",
       "    </tr>\n",
       "    <tr>\n",
       "      <th>2536</th>\n",
       "      <td>184.399994</td>\n",
       "    </tr>\n",
       "    <tr>\n",
       "      <th>2537</th>\n",
       "      <td>186.860001</td>\n",
       "    </tr>\n",
       "    <tr>\n",
       "      <th>2538</th>\n",
       "      <td>185.850006</td>\n",
       "    </tr>\n",
       "  </tbody>\n",
       "</table>\n",
       "</div>"
      ],
      "text/plain": [
       "           Close\n",
       "2534  191.729996\n",
       "2535  188.039993\n",
       "2536  184.399994\n",
       "2537  186.860001\n",
       "2538  185.850006"
      ]
     },
     "execution_count": 44,
     "metadata": {},
     "output_type": "execute_result"
    }
   ],
   "source": [
    "test_set.tail()"
   ]
  },
  {
   "cell_type": "markdown",
   "id": "40f4008a-c853-4c62-86b1-3a88139af3a4",
   "metadata": {},
   "source": [
    "## Normalizing the dataset"
   ]
  },
  {
   "cell_type": "code",
   "execution_count": 246,
   "id": "048773da-b52a-4515-940f-7971c054b4a1",
   "metadata": {},
   "outputs": [
    {
     "data": {
      "text/plain": [
       "array([[0.00238671],\n",
       "       [0.00218503],\n",
       "       [0.00191609],\n",
       "       ...,\n",
       "       [0.95798304],\n",
       "       [0.96897677],\n",
       "       [0.96679303]])"
      ]
     },
     "execution_count": 246,
     "metadata": {},
     "output_type": "execute_result"
    }
   ],
   "source": [
    "scaler = MinMaxScaler(feature_range=(0, 1))\n",
    "train_set_scaled = scaler.fit_transform(train_set)\n",
    "train_set_scaled"
   ]
  },
  {
   "cell_type": "markdown",
   "id": "e9edbafc-74aa-47a8-99cc-eca17dfa5579",
   "metadata": {},
   "source": [
    "### Creating LSTM Model"
   ]
  },
  {
   "cell_type": "code",
   "execution_count": 247,
   "id": "1b228da6-6cee-4e15-a0ef-66e70809a3cc",
   "metadata": {},
   "outputs": [
    {
     "data": {
      "text/plain": [
       "((8690, 10), (8690,))"
      ]
     },
     "execution_count": 247,
     "metadata": {},
     "output_type": "execute_result"
    }
   ],
   "source": [
    "def create_lstm_data(dataset, time_steps=1):\n",
    "    # train_x is the closing price at a given time\n",
    "    # train_y is the closing price at the next time\n",
    "    train_x, train_y = [], []\n",
    "    for i in range(len(dataset) - time_steps):\n",
    "        train_x.append(dataset[i:(i + time_steps), 0])\n",
    "        train_y.append(dataset[i + time_steps, 0])\n",
    "    return np.array(train_x), np.array(train_y)\n",
    "\n",
    "train_x, train_y = create_lstm_data(train_set_scaled, 10)\n",
    "train_x.shape, train_y.shape"
   ]
  },
  {
   "cell_type": "markdown",
   "id": "b6d8f899-17e6-4ab1-aa8c-2dfdda7ecc30",
   "metadata": {},
   "source": [
    "### Building the LSTM Model"
   ]
  },
  {
   "cell_type": "code",
   "execution_count": 248,
   "id": "c0770ba2-db74-4f4d-a13a-4c82dcf2bdc8",
   "metadata": {},
   "outputs": [
    {
     "name": "stdout",
     "output_type": "stream",
     "text": [
      "Model: \"sequential_17\"\n",
      "_________________________________________________________________\n",
      " Layer (type)                Output Shape              Param #   \n",
      "=================================================================\n",
      " lstm_31 (LSTM)              (None, 10, 50)            10400     \n",
      "                                                                 \n",
      " lstm_32 (LSTM)              (None, 50)                20200     \n",
      "                                                                 \n",
      " dense_13 (Dense)            (None, 1)                 51        \n",
      "                                                                 \n",
      "=================================================================\n",
      "Total params: 30,651\n",
      "Trainable params: 30,651\n",
      "Non-trainable params: 0\n",
      "_________________________________________________________________\n"
     ]
    }
   ],
   "source": [
    "# Create a Sequential model\n",
    "model = Sequential()\n",
    "\n",
    "# Adding the first & second LSTM layer with 50 units\n",
    "model.add(LSTM(units=50, return_sequences=True, input_shape=(train_x.shape[1], 1)))\n",
    "model.add(LSTM(units=50))\n",
    "\n",
    "# Adding a Dense layer with 1 unit\n",
    "model.add(Dense(units=1))\n",
    "\n",
    "model.summary()"
   ]
  },
  {
   "cell_type": "markdown",
   "id": "aab8c4a4-a508-4e39-8cdf-71a1ceac6e30",
   "metadata": {},
   "source": [
    "### Training the Model"
   ]
  },
  {
   "cell_type": "code",
   "execution_count": 249,
   "id": "4df898ed-c917-438b-8b0d-1a09b1c54241",
   "metadata": {},
   "outputs": [
    {
     "name": "stdout",
     "output_type": "stream",
     "text": [
      "Epoch 1/50\n",
      "272/272 [==============================] - 9s 15ms/step - loss: 0.0014\n",
      "Epoch 2/50\n",
      "272/272 [==============================] - 4s 15ms/step - loss: 8.2951e-05\n",
      "Epoch 3/50\n",
      "272/272 [==============================] - 4s 15ms/step - loss: 9.2805e-05\n",
      "Epoch 4/50\n",
      "272/272 [==============================] - 4s 15ms/step - loss: 1.0784e-04\n",
      "Epoch 5/50\n",
      "272/272 [==============================] - 4s 16ms/step - loss: 8.0614e-05\n",
      "Epoch 6/50\n",
      "272/272 [==============================] - 5s 17ms/step - loss: 7.8734e-05\n",
      "Epoch 7/50\n",
      "272/272 [==============================] - 5s 17ms/step - loss: 8.7569e-05\n",
      "Epoch 8/50\n",
      "272/272 [==============================] - 5s 17ms/step - loss: 1.0094e-04\n",
      "Epoch 9/50\n",
      "272/272 [==============================] - 5s 17ms/step - loss: 6.6839e-05\n",
      "Epoch 10/50\n",
      "272/272 [==============================] - 5s 17ms/step - loss: 6.7813e-05\n",
      "Epoch 11/50\n",
      "272/272 [==============================] - 5s 18ms/step - loss: 6.2595e-05\n",
      "Epoch 12/50\n",
      "272/272 [==============================] - 5s 17ms/step - loss: 5.3808e-05\n",
      "Epoch 13/50\n",
      "272/272 [==============================] - 5s 17ms/step - loss: 5.2085e-05\n",
      "Epoch 14/50\n",
      "272/272 [==============================] - 5s 18ms/step - loss: 4.9076e-05\n",
      "Epoch 15/50\n",
      "272/272 [==============================] - 5s 17ms/step - loss: 5.8476e-05\n",
      "Epoch 16/50\n",
      "272/272 [==============================] - 5s 17ms/step - loss: 4.7184e-05\n",
      "Epoch 17/50\n",
      "272/272 [==============================] - 5s 18ms/step - loss: 5.6388e-05\n",
      "Epoch 18/50\n",
      "272/272 [==============================] - 5s 18ms/step - loss: 4.7409e-05\n",
      "Epoch 19/50\n",
      "272/272 [==============================] - 5s 17ms/step - loss: 4.3550e-05\n",
      "Epoch 20/50\n",
      "272/272 [==============================] - 5s 19ms/step - loss: 3.7581e-05\n",
      "Epoch 21/50\n",
      "272/272 [==============================] - 10s 36ms/step - loss: 3.8365e-05\n",
      "Epoch 22/50\n",
      "272/272 [==============================] - 6s 23ms/step - loss: 4.0004e-05\n",
      "Epoch 23/50\n",
      "272/272 [==============================] - 5s 19ms/step - loss: 3.4179e-05\n",
      "Epoch 24/50\n",
      "272/272 [==============================] - 6s 22ms/step - loss: 3.0933e-05\n",
      "Epoch 25/50\n",
      "272/272 [==============================] - 5s 18ms/step - loss: 3.5227e-05\n",
      "Epoch 26/50\n",
      "272/272 [==============================] - 5s 19ms/step - loss: 3.5104e-05\n",
      "Epoch 27/50\n",
      "272/272 [==============================] - 5s 18ms/step - loss: 3.2907e-05\n",
      "Epoch 28/50\n",
      "272/272 [==============================] - 5s 17ms/step - loss: 2.5886e-05\n",
      "Epoch 29/50\n",
      "272/272 [==============================] - 5s 19ms/step - loss: 2.5798e-05\n",
      "Epoch 30/50\n",
      "272/272 [==============================] - 5s 17ms/step - loss: 2.6620e-05\n",
      "Epoch 31/50\n",
      "272/272 [==============================] - 5s 18ms/step - loss: 2.6192e-05\n",
      "Epoch 32/50\n",
      "272/272 [==============================] - 5s 18ms/step - loss: 2.7467e-05\n",
      "Epoch 33/50\n",
      "272/272 [==============================] - 5s 18ms/step - loss: 2.6183e-05\n",
      "Epoch 34/50\n",
      "272/272 [==============================] - 5s 18ms/step - loss: 2.2060e-05\n",
      "Epoch 35/50\n",
      "272/272 [==============================] - 5s 18ms/step - loss: 2.6441e-05\n",
      "Epoch 36/50\n",
      "272/272 [==============================] - 5s 18ms/step - loss: 2.1460e-05\n",
      "Epoch 37/50\n",
      "272/272 [==============================] - 5s 17ms/step - loss: 2.2746e-05\n",
      "Epoch 38/50\n",
      "272/272 [==============================] - 5s 18ms/step - loss: 2.4777e-05\n",
      "Epoch 39/50\n",
      "272/272 [==============================] - 6s 23ms/step - loss: 2.1628e-05\n",
      "Epoch 40/50\n",
      "272/272 [==============================] - 5s 18ms/step - loss: 2.4456e-05\n",
      "Epoch 41/50\n",
      "272/272 [==============================] - 5s 18ms/step - loss: 2.5513e-05\n",
      "Epoch 42/50\n",
      "272/272 [==============================] - 5s 18ms/step - loss: 2.1850e-05\n",
      "Epoch 43/50\n",
      "272/272 [==============================] - 5s 19ms/step - loss: 2.3529e-05\n",
      "Epoch 44/50\n",
      "272/272 [==============================] - 5s 19ms/step - loss: 2.3792e-05\n",
      "Epoch 45/50\n",
      "272/272 [==============================] - 5s 19ms/step - loss: 2.0852e-05\n",
      "Epoch 46/50\n",
      "272/272 [==============================] - 5s 18ms/step - loss: 2.3000e-05\n",
      "Epoch 47/50\n",
      "272/272 [==============================] - 5s 17ms/step - loss: 2.1984e-05\n",
      "Epoch 48/50\n",
      "272/272 [==============================] - 5s 18ms/step - loss: 2.3491e-05\n",
      "Epoch 49/50\n",
      "272/272 [==============================] - 5s 17ms/step - loss: 2.8783e-05\n",
      "Epoch 50/50\n",
      "272/272 [==============================] - 5s 17ms/step - loss: 2.0546e-05\n"
     ]
    },
    {
     "data": {
      "text/plain": [
       "<keras.callbacks.History at 0x268df24a800>"
      ]
     },
     "execution_count": 249,
     "metadata": {},
     "output_type": "execute_result"
    }
   ],
   "source": [
    "model.compile(optimizer='adam', loss='mean_squared_error')\n",
    "model.fit(train_x, train_y, epochs=50)"
   ]
  }
 ],
 "metadata": {
  "kernelspec": {
   "display_name": "Python 3 (ipykernel)",
   "language": "python",
   "name": "python3"
  },
  "language_info": {
   "codemirror_mode": {
    "name": "ipython",
    "version": 3
   },
   "file_extension": ".py",
   "mimetype": "text/x-python",
   "name": "python",
   "nbconvert_exporter": "python",
   "pygments_lexer": "ipython3",
   "version": "3.10.13"
  }
 },
 "nbformat": 4,
 "nbformat_minor": 5
}
